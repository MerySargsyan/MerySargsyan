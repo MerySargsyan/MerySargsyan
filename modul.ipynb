{
 "cells": [
  {
   "cell_type": "code",
   "execution_count": 11,
   "metadata": {},
   "outputs": [
    {
     "name": "stdout",
     "output_type": "stream",
     "text": [
      "{'word': 'Econometrics', 'sentence': 'If the implementation is easy to explain, it may be a good idea.', 'big_list': ['python', 3, 'anaconda', 3.6, 'jupyter', 10, 'lessons', 'many', 99], 'empty_list': []}\n"
     ]
    }
   ],
   "source": [
    "dict = {'word':'Econometrics', 'sentence': 'If the implementation is easy to explain, it may be a good idea.', 'big_list': [\"python\", 3, \"anaconda\", 3.6, \"jupyter\", 10, \"lessons\", \"many\", 99], \"empty_list\": []}\n",
    "print(dict)"
   ]
  },
  {
   "cell_type": "code",
   "execution_count": 12,
   "metadata": {},
   "outputs": [
    {
     "name": "stdout",
     "output_type": "stream",
     "text": [
      "{'word': 'Applied_Econometrics', 'sentence': 'If the implementation is easy to explain, it may be a good idea.', 'big_list': ['python', 3, 'anaconda', 3.6, 'jupyter', 10, 'lessons', 'many', 99], 'empty_list': []}\n"
     ]
    }
   ],
   "source": [
    "dict['word'] = 'Applied_{}'.format(dict['word'])\n",
    "print(dict)"
   ]
  },
  {
   "cell_type": "code",
   "execution_count": 13,
   "metadata": {},
   "outputs": [
    {
     "name": "stdout",
     "output_type": "stream",
     "text": [
      "{'word': 'Applied_Econometrics', 'sentence': 'If the implementation is easy to explain, it may be a good idea.', 'big_list': ['python', 3, 'anaconda', 3.6, 'jupyter', 10, 'lessons', 'many', 99], 'empty_list': []}\n"
     ]
    }
   ],
   "source": [
    "dict['sentence'].replace('good','excellent')\n",
    "print(dict)"
   ]
  },
  {
   "cell_type": "code",
   "execution_count": 15,
   "metadata": {},
   "outputs": [
    {
     "name": "stdout",
     "output_type": "stream",
     "text": [
      "p\n",
      "a\n",
      "j\n",
      "l\n",
      "m\n"
     ]
    }
   ],
   "source": [
    "for item in dict['big_list']:\n",
    "    if type(item) == str:\n",
    "        print(item[0])"
   ]
  },
  {
   "cell_type": "code",
   "execution_count": 17,
   "metadata": {},
   "outputs": [
    {
     "name": "stdout",
     "output_type": "stream",
     "text": [
      "112\n"
     ]
    }
   ],
   "source": [
    "sum = 0 \n",
    "for item in dict['big_list']:\n",
    "    if type(item) == int:\n",
    "        sum += item\n",
    "print(sum)"
   ]
  },
  {
   "cell_type": "code",
   "execution_count": 19,
   "metadata": {},
   "outputs": [
    {
     "name": "stdout",
     "output_type": "stream",
     "text": [
      "{'word': 'Applied_APPLIED_ECONOMETRICS', 'sentence': 'If the implementation is easy to explain, it may be a good idea.', 'big_list': 'many', 'empty_list': []}\n"
     ]
    }
   ],
   "source": [
    "dict['big_list'] = 'many'\n",
    "print(dict)"
   ]
  }
 ],
 "metadata": {
  "interpreter": {
   "hash": "25028bd30d2fe24996d531df5b473f60cacb100dee408ced37f662b6434b2a88"
  },
  "kernelspec": {
   "display_name": "Python 3.9.7 ('base')",
   "language": "python",
   "name": "python3"
  },
  "language_info": {
   "codemirror_mode": {
    "name": "ipython",
    "version": 3
   },
   "file_extension": ".py",
   "mimetype": "text/x-python",
   "name": "python",
   "nbconvert_exporter": "python",
   "pygments_lexer": "ipython3",
   "version": "3.9.7"
  },
  "orig_nbformat": 4
 },
 "nbformat": 4,
 "nbformat_minor": 2
}
